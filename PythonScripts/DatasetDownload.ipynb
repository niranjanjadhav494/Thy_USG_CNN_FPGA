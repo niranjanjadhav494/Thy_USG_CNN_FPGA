{
 "cells": [
  {
   "cell_type": "code",
   "execution_count": 3,
   "id": "e66ac8b1-72bb-45ef-a982-ef3c1c4bb722",
   "metadata": {},
   "outputs": [],
   "source": [
    "import kagglehub\n",
    "import os\n",
    "import shutil"
   ]
  },
  {
   "cell_type": "code",
   "execution_count": 4,
   "id": "cd4acda1-8f3b-4458-a1b3-ef1acf94c4a0",
   "metadata": {},
   "outputs": [
    {
     "name": "stdout",
     "output_type": "stream",
     "text": [
      "Warning: Looks like you're using an outdated `kagglehub` version, please consider updating (latest version: 0.3.12)\n",
      "Path to dataset files: /home/niranjan/.cache/kagglehub/datasets/dasmehdixtr/ddti-thyroid-ultrasound-images/versions/1\n"
     ]
    }
   ],
   "source": [
    "path = kagglehub.dataset_download(\"dasmehdixtr/ddti-thyroid-ultrasound-images\")\n",
    "\n",
    "print(\"Path to dataset files:\", path)"
   ]
  },
  {
   "cell_type": "code",
   "execution_count": 5,
   "id": "96f60613-b9ba-4b91-ba29-bd6ba08438a4",
   "metadata": {},
   "outputs": [
    {
     "name": "stdout",
     "output_type": "stream",
     "text": [
      "Moved to: /home/niranjan/Datasets/thyroid_dataset\n"
     ]
    }
   ],
   "source": [
    "new_path = \"/home/niranjan/Datasets/thyroid_dataset\"\n",
    "os.makedirs(new_path, exist_ok=True)\n",
    "shutil.move(path, new_path)\n",
    "\n",
    "print(\"Moved to:\", new_path)"
   ]
  }
 ],
 "metadata": {
  "kernelspec": {
   "display_name": "Python 3 (ipykernel)",
   "language": "python",
   "name": "python3"
  },
  "language_info": {
   "codemirror_mode": {
    "name": "ipython",
    "version": 3
   },
   "file_extension": ".py",
   "mimetype": "text/x-python",
   "name": "python",
   "nbconvert_exporter": "python",
   "pygments_lexer": "ipython3",
   "version": "3.12.3"
  }
 },
 "nbformat": 4,
 "nbformat_minor": 5
}
